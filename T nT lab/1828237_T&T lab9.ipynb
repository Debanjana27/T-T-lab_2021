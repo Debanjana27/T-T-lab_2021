{
 "cells": [
  {
   "cell_type": "code",
   "execution_count": 13,
   "metadata": {},
   "outputs": [],
   "source": [
    "#Tuples\n",
    "#immutable & ordered\n",
    "#[bbbb]\n",
    "#(aaa)\n",
    "tup1 = ();\n",
    "tup1 = (9,);"
   ]
  },
  {
   "cell_type": "code",
   "execution_count": 14,
   "metadata": {},
   "outputs": [],
   "source": [
    "tup1 = ('physics', 'chemistry', 'biology', 'english',97, 100,88,92);"
   ]
  },
  {
   "cell_type": "code",
   "execution_count": 15,
   "metadata": {},
   "outputs": [],
   "source": [
    "tup2 = (1, 2, 3, 4, 5 );"
   ]
  },
  {
   "cell_type": "code",
   "execution_count": 16,
   "metadata": {},
   "outputs": [
    {
     "name": "stdout",
     "output_type": "stream",
     "text": [
      "tup1[2]:  biology\n"
     ]
    }
   ],
   "source": [
    "print (\"tup1[2]: \", tup1[2])"
   ]
  },
  {
   "cell_type": "code",
   "execution_count": 17,
   "metadata": {},
   "outputs": [],
   "source": [
    "del tup2;"
   ]
  },
  {
   "cell_type": "code",
   "execution_count": 18,
   "metadata": {},
   "outputs": [
    {
     "name": "stdout",
     "output_type": "stream",
     "text": [
      "tup2[2:5]:  (3, 4, 5)\n"
     ]
    }
   ],
   "source": [
    "tup2 = (1, 2, 3, 4, 5, 6, 7 );\n",
    "print (\"tup2[2:5]: \", tup2[2:5])"
   ]
  },
  {
   "cell_type": "code",
   "execution_count": 19,
   "metadata": {},
   "outputs": [
    {
     "name": "stdout",
     "output_type": "stream",
     "text": [
      "8\n"
     ]
    }
   ],
   "source": [
    "#Length of tuple\n",
    "print(len(tup1))"
   ]
  },
  {
   "cell_type": "code",
   "execution_count": 20,
   "metadata": {},
   "outputs": [
    {
     "name": "stdout",
     "output_type": "stream",
     "text": [
      "The original tuple 1 : (1, 3, 5)\n",
      "The original tuple 2 : (4, 6)\n",
      "The tuple after concatenation is : (1, 3, 5, 4, 6)\n"
     ]
    }
   ],
   "source": [
    "#concatenation\n",
    "# initialize tuples \n",
    "test_tup1 = (1, 3, 5) \n",
    "test_tup2 = (4, 6) \n",
    "  \n",
    "# printing original tuples \n",
    "print(\"The original tuple 1 : \" + str(test_tup1)) \n",
    "print(\"The original tuple 2 : \" + str(test_tup2)) \n",
    "  \n",
    "# Ways to concatenate tuples \n",
    "# using + operator \n",
    "res = test_tup1 + test_tup2 \n",
    "  \n",
    "# printing result \n",
    "print(\"The tuple after concatenation is : \" + str(res))"
   ]
  },
  {
   "cell_type": "code",
   "execution_count": 21,
   "metadata": {},
   "outputs": [
    {
     "name": "stdout",
     "output_type": "stream",
     "text": [
      "('ABC', 'ABC', 'ABC', 'ABC', 'ABC', 'ABC', 'ABC')\n"
     ]
    }
   ],
   "source": [
    "#repetation\n",
    "tupr=('ABC',)*7\n",
    "print(tupr)"
   ]
  },
  {
   "cell_type": "code",
   "execution_count": 22,
   "metadata": {},
   "outputs": [
    {
     "name": "stdout",
     "output_type": "stream",
     "text": [
      "True\n"
     ]
    }
   ],
   "source": [
    "#membership\n",
    "tupf = (\"apple\", \"banana\", \"cherry\")\n",
    "print('cherry' in tupf)"
   ]
  },
  {
   "cell_type": "code",
   "execution_count": 23,
   "metadata": {},
   "outputs": [
    {
     "name": "stdout",
     "output_type": "stream",
     "text": [
      "1\n",
      "2\n",
      "3\n",
      "4\n",
      "5\n"
     ]
    }
   ],
   "source": [
    "#iteration\n",
    "for x in (1,2,3,4,5):\n",
    "    print(x)"
   ]
  },
  {
   "cell_type": "markdown",
   "metadata": {},
   "source": [
    "#Built-in functions"
   ]
  },
  {
   "cell_type": "code",
   "execution_count": 26,
   "metadata": {},
   "outputs": [],
   "source": [
    "if tup1 == tup2:\n",
    "    print('True')\n",
    "#Compares elements of 2 tuples."
   ]
  },
  {
   "cell_type": "code",
   "execution_count": 29,
   "metadata": {},
   "outputs": [],
   "source": [
    "#max(tup1)\n",
    "#Returns item from the tuple with max value.\n",
    "#min(tup1)\n",
    "#Returns item from the tuple with min value."
   ]
  },
  {
   "cell_type": "markdown",
   "metadata": {},
   "source": [
    "1.WAP TO PICK THE 3RD , 4TH N 5TH OBJECT AND CREATE ANOTHER TUPPLE WITH THE SAME"
   ]
  },
  {
   "cell_type": "code",
   "execution_count": 32,
   "metadata": {},
   "outputs": [
    {
     "name": "stdout",
     "output_type": "stream",
     "text": [
      "('c', 'd', 1)\n"
     ]
    }
   ],
   "source": [
    "tup_old=('a','b','c','d',1,2,3,4)\n",
    "tup_new=(tup_old[2:5])\n",
    "print(tup_new)"
   ]
  },
  {
   "cell_type": "markdown",
   "metadata": {},
   "source": [
    " 2.Counts the number of occurrences of  an item  from a tuple of min 10 elements."
   ]
  },
  {
   "cell_type": "code",
   "execution_count": 33,
   "metadata": {},
   "outputs": [
    {
     "name": "stdout",
     "output_type": "stream",
     "text": [
      "0\n",
      "3\n",
      "4\n"
     ]
    }
   ],
   "source": [
    "def countX(tup, x): \n",
    "    count = 0\n",
    "    for ele in tup: \n",
    "        if (ele == x): \n",
    "            count = count + 1\n",
    "    return count \n",
    "   \n",
    "# Driver Code \n",
    "tup = (10, 8, 5, 2, 10, 15, 10, 8, 5, 8, 8, 2) \n",
    "enq = 4\n",
    "enq1 = 10\n",
    "enq2 = 8\n",
    "print(countX(tup, enq)) \n",
    "print(countX(tup, enq1)) \n",
    "print(countX(tup, enq2))"
   ]
  },
  {
   "cell_type": "markdown",
   "metadata": {},
   "source": [
    " 3.Write a Python program calculate the product, multiplying all the numbers  with 35"
   ]
  },
  {
   "cell_type": "code",
   "execution_count": 37,
   "metadata": {},
   "outputs": [
    {
     "name": "stdout",
     "output_type": "stream",
     "text": [
      "(350, 280, 175, 70, 350, 525, 350, 280, 175, 280, 280, 70)\n"
     ]
    }
   ],
   "source": [
    "tup4=()\n",
    "for ele in tup:\n",
    "  prod=ele*35\n",
    "  tup4=tup4+(prod,)\n",
    "\n",
    "print(tup4)\n"
   ]
  },
  {
   "cell_type": "markdown",
   "metadata": {},
   "source": [
    "4.Write a Python program to replace last value of tuples in a list."
   ]
  },
  {
   "cell_type": "code",
   "execution_count": 34,
   "metadata": {},
   "outputs": [
    {
     "name": "stdout",
     "output_type": "stream",
     "text": [
      "[(10, 20, 100), (40, 50, 100), (70, 80, 100)]\n"
     ]
    }
   ],
   "source": [
    "l = [(10, 20, 40), (40, 50, 60), (70, 80, 90)]\n",
    "print([t[:-1] + (100,) for t in l])"
   ]
  },
  {
   "cell_type": "markdown",
   "metadata": {},
   "source": [
    "5.\n",
    "Write a Python program to find the length of a tuple"
   ]
  },
  {
   "cell_type": "code",
   "execution_count": 36,
   "metadata": {},
   "outputs": [
    {
     "name": "stdout",
     "output_type": "stream",
     "text": [
      "('p', 'h', 'y', 's', 'i', 'c', 's')\n",
      "7\n"
     ]
    }
   ],
   "source": [
    "#5.\n",
    "tuplex = tuple('physics')\n",
    "print(tuplex)\n",
    "print(len(tuplex))"
   ]
  },
  {
   "cell_type": "markdown",
   "metadata": {},
   "source": [
    "6.Write a Python program to find the index of an item of a tuple"
   ]
  },
  {
   "cell_type": "code",
   "execution_count": 39,
   "metadata": {},
   "outputs": [
    {
     "name": "stdout",
     "output_type": "stream",
     "text": [
      "('i', 'n', 'd', 'e', 'x', ' ', 't', 'u', 'p', 'l', 'e')\n",
      "8\n"
     ]
    }
   ],
   "source": [
    "tuplex = tuple(\"index tuple\")\n",
    "print(tuplex)\n",
    "index = tuplex.index(\"p\")\n",
    "print(index)\n"
   ]
  },
  {
   "cell_type": "code",
   "execution_count": null,
   "metadata": {},
   "outputs": [],
   "source": []
  }
 ],
 "metadata": {
  "kernelspec": {
   "display_name": "Python 3",
   "language": "python",
   "name": "python3"
  },
  "language_info": {
   "codemirror_mode": {
    "name": "ipython",
    "version": 3
   },
   "file_extension": ".py",
   "mimetype": "text/x-python",
   "name": "python",
   "nbconvert_exporter": "python",
   "pygments_lexer": "ipython3",
   "version": "3.7.4"
  }
 },
 "nbformat": 4,
 "nbformat_minor": 2
}
