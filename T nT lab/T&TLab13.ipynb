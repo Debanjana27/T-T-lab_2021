{
 "cells": [
  {
   "cell_type": "markdown",
   "metadata": {},
   "source": [
    "# Inheritance"
   ]
  },
  {
   "cell_type": "markdown",
   "metadata": {},
   "source": [
    "## Single Inheritance"
   ]
  },
  {
   "cell_type": "code",
   "execution_count": 2,
   "metadata": {},
   "outputs": [
    {
     "name": "stdout",
     "output_type": "stream",
     "text": [
      "dog barking\n",
      "Animal Speaking\n"
     ]
    }
   ],
   "source": [
    "class Animal:  \n",
    "    def speak(self):  \n",
    "        print(\"Animal Speaking\")   \n",
    "class Dog(Animal):  \n",
    "    def bark(self):  \n",
    "        print(\"dog barking\")  \n",
    "d = Dog()  \n",
    "d.bark()  \n",
    "d.speak() "
   ]
  },
  {
   "cell_type": "markdown",
   "metadata": {},
   "source": [
    "## Multilevel Inheritance"
   ]
  },
  {
   "cell_type": "code",
   "execution_count": 3,
   "metadata": {},
   "outputs": [
    {
     "name": "stdout",
     "output_type": "stream",
     "text": [
      "dog barking\n",
      "Animal Speaking\n",
      "Eating bread...\n"
     ]
    }
   ],
   "source": [
    "class Animal:  \n",
    "    def speak(self):  \n",
    "        print(\"Animal Speaking\")  \n",
    "class Dog(Animal):  \n",
    "    def bark(self):  \n",
    "        print(\"dog barking\")  \n",
    "class DogChild(Dog):  \n",
    "    def eat(self):  \n",
    "        print(\"Eating bread...\")  \n",
    "d = DogChild()  \n",
    "d.bark()  \n",
    "d.speak()  \n",
    "d.eat() "
   ]
  },
  {
   "cell_type": "markdown",
   "metadata": {},
   "source": [
    "## Multiple Inheritance"
   ]
  },
  {
   "cell_type": "code",
   "execution_count": 4,
   "metadata": {},
   "outputs": [
    {
     "name": "stdout",
     "output_type": "stream",
     "text": [
      "30\n",
      "200\n",
      "0.5\n"
     ]
    }
   ],
   "source": [
    "class Calculation1:  \n",
    "    def Summation(self,a,b):  \n",
    "        return a+b  \n",
    "class Calculation2:  \n",
    "    def Multiplication(self,a,b):  \n",
    "        return a*b  \n",
    "class Derived(Calculation1,Calculation2):  \n",
    "    def Divide(self,a,b):  \n",
    "        return a/b  \n",
    "d = Derived()  \n",
    "print(d.Summation(10,20))  \n",
    "print(d.Multiplication(10,20))  \n",
    "print(d.Divide(10,20)) "
   ]
  },
  {
   "cell_type": "markdown",
   "metadata": {},
   "source": [
    "## Hierarchical Inheritance"
   ]
  },
  {
   "cell_type": "code",
   "execution_count": 5,
   "metadata": {},
   "outputs": [
    {
     "name": "stdout",
     "output_type": "stream",
     "text": [
      "Barking!\n",
      "Animal Speaking\n",
      "Meow!!\n",
      "Animal Speaking\n"
     ]
    }
   ],
   "source": [
    "class Animal:  \n",
    "    def speak(self):  \n",
    "        print(\"Animal Speaking\")  \n",
    "class Dog(Animal):  \n",
    "    def bark(self):  \n",
    "        print(\"Barking!\")  \n",
    "class Cat(Animal):  \n",
    "    def sound(self):  \n",
    "        print(\"Meow!!\")  \n",
    "d = Dog()  \n",
    "d.bark()  \n",
    "d.speak()  \n",
    "\n",
    "c = Cat()\n",
    "c.sound()\n",
    "c.speak()"
   ]
  },
  {
   "cell_type": "markdown",
   "metadata": {},
   "source": [
    "## 1. WAP TO REPRESENT HIERARCHIAL INHERITANCE\n",
    "\n"
   ]
  },
  {
   "cell_type": "code",
   "execution_count": 2,
   "metadata": {},
   "outputs": [
    {
     "name": "stdout",
     "output_type": "stream",
     "text": [
      "This function is in parent class.\n",
      "This function is in child 1.\n",
      "This function is in parent class.\n",
      "This function is in child 2.\n"
     ]
    }
   ],
   "source": [
    "class Parent:\n",
    "      def func1(self):\n",
    "          print(\"This function is in parent class.\")\n",
    "class Child1(Parent):\n",
    "      def func2(self):\n",
    "          print(\"This function is in child 1.\")\n",
    "class Child2(Parent):\n",
    "      def func3(self):\n",
    "          print(\"This function is in child 2.\")\n",
    "object1 = Child1()\n",
    "object2 = Child2()\n",
    "object1.func1()\n",
    "object1.func2()\n",
    "object2.func1()\n",
    "object2.func3()"
   ]
  },
  {
   "cell_type": "markdown",
   "metadata": {},
   "source": [
    "#### 2. Create a class named 'Member' having the following members:\n",
    "Data members\n",
    "1 - Name\n",
    "2 - Age\n",
    "3 - Phone number\n",
    "4 - Address\n",
    "5 - Salary\n",
    "It also has a method named 'printSalary' which prints the salary of the members.\n",
    "Two classes 'Employee' and 'Manager' inherits the 'Member' class. The 'Employee' and 'Manager' classes have data members 'specialization' and 'department' respectively. Now, assign name, age, phone number, address and salary to an employee and a manager by making an object of both of these."
   ]
  },
  {
   "cell_type": "code",
   "execution_count": 1,
   "metadata": {},
   "outputs": [
    {
     "name": "stdout",
     "output_type": "stream",
     "text": [
      "Enter Specialization of Employee:- Accountant\n",
      "Enter Department of Employee:- Accounts\n",
      "Enter Name:-  Kevin\n",
      "Enter Age:-  22\n",
      "Enter Phone Number:- 23442\n",
      "Enter Address:- Kolkata\n",
      "Enter Salary:- 2442\n",
      "Kevin 22 2442\n",
      "Enter Specialization of Manager:- Networks\n",
      "Enter Department of Manager:- Networking\n",
      "Enter Name:-  Debashish\n",
      "Enter Age:-  20\n",
      "Enter Phone Number:- 234234\n",
      "Enter Address:- Dehradun'\n",
      "Enter Salary:- 3435\n",
      "Debashish 20 3435\n"
     ]
    }
   ],
   "source": [
    "class Member():\n",
    "    def details(self):\n",
    "        self.name=input(\"Enter Name:-  \")\n",
    "        self.age=int(input(\"Enter Age:-  \"))\n",
    "        self.phone=input(\"Enter Phone Number:- \")\n",
    "        self.address=input(\"Enter Address:- \")\n",
    "        self.salary=input(\"Enter Salary:- \")\n",
    "\n",
    "    def printSalary(self):\n",
    "        print(self.name, self.age, self.salary)\n",
    "\n",
    "class Employee(Member):\n",
    "    def __init__(self):\n",
    "        self.specialization=input(\"Enter Specialization of Employee:- \")\n",
    "        self.department=input(\"Enter Department of Employee:- \")\n",
    "\n",
    "class Manager(Member):\n",
    "    def __init__(self):\n",
    "        self.specialization=input(\"Enter Specialization of Manager:- \")\n",
    "        self.department=input(\"Enter Department of Manager:- \")\n",
    "\n",
    "\n",
    "e = Employee()\n",
    "\n",
    "e.details()\n",
    "e.printSalary()\n",
    "\n",
    "\n",
    "m = Manager()\n",
    "\n",
    "m.details()\n",
    "m.printSalary()\n",
    "\n",
    "\n",
    "\n",
    "        "
   ]
  },
  {
   "cell_type": "markdown",
   "metadata": {},
   "source": [
    "### 3. Create a class with a method that prints \"This is parent class\" and its subclass with another method that prints \"This is child class\". Now, create an object for each of the class and call\n",
    "1 - method of parent class by object of parent class\n",
    "2 - method of child class by object of child class\n",
    "3 - method of parent class by object of child class"
   ]
  },
  {
   "cell_type": "code",
   "execution_count": 10,
   "metadata": {},
   "outputs": [
    {
     "name": "stdout",
     "output_type": "stream",
     "text": [
      "This is parent class\n",
      "This is child class\n",
      "This is parent class\n"
     ]
    }
   ],
   "source": [
    "class Parent:  \n",
    "    def funParent(self):  \n",
    "        print(\"This is parent class\")   \n",
    "class Child(Parent):  \n",
    "    def funChild(self):  \n",
    "        print(\"This is child class\")  \n",
    "obj = Parent()\n",
    "obj.funParent() \n",
    "\n",
    "obj2 = Child()\n",
    "obj2.funChild()\n",
    "\n",
    "obj2.funParent() "
   ]
  },
  {
   "cell_type": "markdown",
   "metadata": {},
   "source": [
    "#### 4. .Create a class named 'Shape' with a method to print \"This is This is shape\". Then create two other classes named 'Rectangle', 'Circle' inheriting the Shape class, both having a method to print \"This is rectangular shape\" and \"This is circular shape\" respectively. Create a subclass 'Square' of 'Rectangle' having a method to print \"Square is a rectangle\". Now call the method of 'Shape' and 'Rectangle' class by the object of 'Square' class."
   ]
  },
  {
   "cell_type": "code",
   "execution_count": 11,
   "metadata": {},
   "outputs": [
    {
     "name": "stdout",
     "output_type": "stream",
     "text": [
      "This is This is shape\n",
      "This is rectangular shape\n"
     ]
    }
   ],
   "source": [
    "class Shape:  \n",
    "    def funShape(self):  \n",
    "        print(\"This is This is shape\")   \n",
    "class Rectangle(Shape):  \n",
    "    def funRectangle(self):  \n",
    "        print(\"This is rectangular shape\") \n",
    "\n",
    "class Circle(Shape):  \n",
    "    def funCircle(self):  \n",
    "        print(\"This is circular shape\") \n",
    "\n",
    "class Square(Rectangle):\n",
    "    def funSquare(self):\n",
    "        print(\"Square is a rectangle\") \n",
    "\n",
    "\n",
    "obj = Square()\n",
    "\n",
    "obj.funShape()\n",
    "obj.funRectangle()"
   ]
  },
  {
   "cell_type": "code",
   "execution_count": 6,
   "metadata": {},
   "outputs": [
    {
     "name": "stdout",
     "output_type": "stream",
     "text": [
      "20\n",
      "18\n",
      "16\n",
      "16\n"
     ]
    }
   ],
   "source": [
    "class Rectangle:\n",
    "    def __init__(self,l, b):\n",
    "        self.l = l\n",
    "        self.b = b\n",
    "    def print_area(self):\n",
    "        area=self.l*self.b\n",
    "        print(area)\n",
    "    def print_perimeter(self):\n",
    "        pr=2*(self.l+self.b)\n",
    "        print(pr)\n",
    "\n",
    "class Square(Rectangle):\n",
    "    def __init__(self,s):\n",
    "        self.s=s\n",
    "        Rectangle.__init__(self,s,s)\n",
    "        \n",
    "r=Rectangle(4,5)\n",
    "s=Square(4)\n",
    "r.print_area()\n",
    "r.print_perimeter()\n",
    "s.print_area()\n",
    "s.print_perimeter()"
   ]
  },
  {
   "cell_type": "code",
   "execution_count": 4,
   "metadata": {},
   "outputs": [
    {
     "name": "stdout",
     "output_type": "stream",
     "text": [
      "2000 is a leap year\n"
     ]
    }
   ],
   "source": [
    "class leapYear:\n",
    "    def checkLeapYear(self, year):\n",
    "        if (year % 4) == 0:\n",
    "            if (year % 100) == 0:\n",
    "                if (year % 400) == 0:\n",
    "                    print(\"{0} is a leap year\".format(year))\n",
    "                else:\n",
    "                    print(\"{0} is not a leap year\".format(year))\n",
    "            else:\n",
    "                print(\"{0} is a leap year\".format(year))\n",
    "        else:\n",
    "            print(\"{0} is not a leap year\".format(year))\n",
    "\n",
    "\n",
    "obj = leapYear()\n",
    "obj.checkLeapYear(2000)"
   ]
  },
  {
   "cell_type": "code",
   "execution_count": null,
   "metadata": {},
   "outputs": [],
   "source": []
  }
 ],
 "metadata": {
  "kernelspec": {
   "display_name": "Python 3",
   "language": "python",
   "name": "python3"
  },
  "language_info": {
   "codemirror_mode": {
    "name": "ipython",
    "version": 3
   },
   "file_extension": ".py",
   "mimetype": "text/x-python",
   "name": "python",
   "nbconvert_exporter": "python",
   "pygments_lexer": "ipython3",
   "version": "3.7.4"
  }
 },
 "nbformat": 4,
 "nbformat_minor": 2
}
