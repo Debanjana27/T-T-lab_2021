{
 "cells": [
  {
   "cell_type": "markdown",
   "metadata": {},
   "source": [
    "### pandas"
   ]
  },
  {
   "cell_type": "code",
   "execution_count": 1,
   "metadata": {},
   "outputs": [
    {
     "name": "stdout",
     "output_type": "stream",
     "text": [
      "Series([], dtype: float64)\n"
     ]
    },
    {
     "name": "stderr",
     "output_type": "stream",
     "text": [
      "C:\\Users\\KIIT\\Anaconda3\\lib\\site-packages\\ipykernel_launcher.py:3: DeprecationWarning: The default dtype for empty Series will be 'object' instead of 'float64' in a future version. Specify a dtype explicitly to silence this warning.\n",
      "  This is separate from the ipykernel package so we can avoid doing imports until\n"
     ]
    }
   ],
   "source": [
    "import pandas as pd\n",
    "\n",
    "s= pd.Series()\n",
    "print(s)\n"
   ]
  },
  {
   "cell_type": "code",
   "execution_count": 2,
   "metadata": {},
   "outputs": [
    {
     "name": "stdout",
     "output_type": "stream",
     "text": [
      "0    a\n",
      "1    b\n",
      "2    c\n",
      "3    d\n",
      "dtype: object\n"
     ]
    }
   ],
   "source": [
    "import pandas as pd\n",
    "import numpy as np\n",
    "data = np.array(['a','b','c','d'])\n",
    "s = pd.Series(data)\n",
    "print(s)"
   ]
  },
  {
   "cell_type": "markdown",
   "metadata": {},
   "source": [
    "```\n",
    "**axes**\n",
    "\n",
    "Returns a list of the row axis labels \n",
    "\n",
    "**dtype**\n",
    "\n",
    "Returns the dtype of the object.\n",
    "\n",
    "**empty**\n",
    "\n",
    "Returns True if series is empty.\n",
    "\n",
    "**ndim**\n",
    "\n",
    "Returns the number of dimensions of the underlying data, by definition 1.\n",
    "\n",
    "**size**\n",
    "\n",
    "Returns the number of elements in the underlying data.\n",
    "\n",
    "**values**\n",
    "\n",
    "Returns the Series as ndarray.\n",
    "\n",
    "**head()**\n",
    "\n",
    "Returns the first n rows.\n",
    "\n",
    "**tail()**\n",
    "\n",
    "Returns the last n rows.\n",
    "\n",
    "**T**\n",
    "\n",
    "Transposes rows and columns.\n",
    "\n",
    "```"
   ]
  },
  {
   "cell_type": "code",
   "execution_count": 19,
   "metadata": {},
   "outputs": [
    {
     "name": "stdout",
     "output_type": "stream",
     "text": [
      "   0\n",
      "0  1\n",
      "1  2\n",
      "2  3\n",
      "3  4\n",
      "\n",
      "\n",
      "   0  1  2  3\n",
      "0  1  2  3  4\n"
     ]
    }
   ],
   "source": [
    "#WAP to create a dictionary of pandas series and from that\n",
    "#create a dataframe and find the transpose of the dataframe\n",
    "\n",
    "s=pd.Series([1,2,3,4])\n",
    "s=s.to_dict()\n",
    "s=pd.DataFrame.from_dict(s,orient='index')\n",
    "print(s)\n",
    "print(\"\\n\")\n",
    "print(s.T)"
   ]
  },
  {
   "cell_type": "code",
   "execution_count": 21,
   "metadata": {},
   "outputs": [
    {
     "name": "stdout",
     "output_type": "stream",
     "text": [
      "4\n"
     ]
    }
   ],
   "source": [
    "#WAP to create a dictionary of pandas series create a dataframe  and and find the number of elements within it\n",
    "s=pd.Series([1,2,3,4])\n",
    "s=s.to_dict()\n",
    "s=pd.DataFrame.from_dict(s,orient='index')\n",
    "print(s.size)"
   ]
  },
  {
   "cell_type": "code",
   "execution_count": 22,
   "metadata": {},
   "outputs": [
    {
     "name": "stdout",
     "output_type": "stream",
     "text": [
      "[[1]\n",
      " [2]\n",
      " [3]\n",
      " [4]]\n"
     ]
    }
   ],
   "source": [
    "#wap to create a dict with series. create a dataframe and return \n",
    "#the actual data in the DataFrame as an NDarray.\n",
    "s=pd.Series([1,2,3,4])\n",
    "s=s.to_dict()\n",
    "s=pd.DataFrame.from_dict(s,orient='index')\n",
    "print(s.values)\n"
   ]
  },
  {
   "cell_type": "code",
   "execution_count": 26,
   "metadata": {},
   "outputs": [
    {
     "name": "stdout",
     "output_type": "stream",
     "text": [
      "   0\n",
      "0  1\n",
      "\n",
      "\n",
      "   0\n",
      "3  4\n"
     ]
    }
   ],
   "source": [
    "#wap to create a dict with series. create a dataframe and return \n",
    "#the first row and the last row.\n",
    "\n",
    "s=pd.Series([1,2,3,4])\n",
    "s=s.to_dict()\n",
    "s=pd.DataFrame.from_dict(s,orient='index')\n",
    "print(s.head(1))\n",
    "print(\"\\n\")\n",
    "print(s.tail(1))"
   ]
  },
  {
   "cell_type": "markdown",
   "metadata": {},
   "source": [
    "iteritems() − to iterate over the (key,value) pairs\n",
    "\n",
    "iterrows() − iterate over the rows as (index,series) pairs\n",
    "\n",
    "itertuples() − iterate over the rows as namedtuples"
   ]
  },
  {
   "cell_type": "code",
   "execution_count": 3,
   "metadata": {},
   "outputs": [
    {
     "name": "stdout",
     "output_type": "stream",
     "text": [
      "Pandas(Index='Swift', Company='Maruti', Engine=1500)\n",
      "Pandas(Index='Safari', Company='TATA', Engine=2000)\n",
      "Pandas(Index='XUV', Company='Mahindra', Engine=2500)\n"
     ]
    }
   ],
   "source": [
    " df = pd.DataFrame({'Company': ['Maruti', 'TATA', 'Mahindra'], 'Engine': [1500, 2000, 2500]},index=['Swift', 'Safari','XUV'])\n",
    "for row in df.itertuples():\n",
    "    print(row)"
   ]
  },
  {
   "cell_type": "markdown",
   "metadata": {},
   "source": [
    "sorting by labels, display the order of sorting\n",
    "sort the columns\n",
    "sort by values\n",
    "implement all the sorting algorithms"
   ]
  },
  {
   "cell_type": "markdown",
   "metadata": {},
   "source": [
    "lower()\n",
    "\n",
    "Converts strings in the Series/Index to lower case.\n",
    "len()\n",
    "\n",
    "Computes String length().\n",
    "split(' ')\n",
    "\n",
    "Splits each string with the given pattern.\n",
    "cat(sep=' ')\n",
    "\n",
    "Concatenates the series/index elements with given separator.\n",
    "repeat(value)\n",
    "\n",
    "Repeats each element with specified number of times.\n",
    "swapcase\n",
    "\n",
    "Swaps the case lower/upper.\n",
    "isnumeric()\n",
    "\n",
    "Checks whether all characters in each string in the Series/Index are numeric. Returns Boolean."
   ]
  },
  {
   "cell_type": "code",
   "execution_count": 4,
   "metadata": {},
   "outputs": [
    {
     "data": {
      "text/plain": [
       "0     World\n",
       "0     World\n",
       "0     World\n",
       "1    Pandas\n",
       "1    Pandas\n",
       "1    Pandas\n",
       "dtype: object"
      ]
     },
     "execution_count": 4,
     "metadata": {},
     "output_type": "execute_result"
    }
   ],
   "source": [
    "#wap to find the length of the string and repaet the values in odd position 3 times\n",
    "strings = pd.Series([\"Hello\", \"World\", \"Python\", \"Pandas\"])\n",
    "\n",
    "pd.Series([x for i, x in enumerate(list(strings)) if i % 2 != 0]).repeat(3)"
   ]
  },
  {
   "cell_type": "code",
   "execution_count": 5,
   "metadata": {},
   "outputs": [
    {
     "name": "stdout",
     "output_type": "stream",
     "text": [
      "   id_x  Name_x subject_id  id_y Name_y\n",
      "0   2.0     Amy       sub2     1  Billy\n",
      "1   3.0   Allen       sub4     2  Brian\n",
      "2   NaN     NaN       sub3     3   Bran\n",
      "3   4.0   Alice       sub6     4  Bryce\n",
      "4   5.0  Ayoung       sub5     5  Betty\n"
     ]
    }
   ],
   "source": [
    "import pandas as pd\n",
    "left = pd.DataFrame({\n",
    "   'id':[1,2,3,4,5],\n",
    "   'Name': ['Alex', 'Amy', 'Allen', 'Alice', 'Ayoung'],\n",
    "   'subject_id':['sub1','sub2','sub4','sub6','sub5']})\n",
    "right = pd.DataFrame({\n",
    "   'id':[1,2,3,4,5],\n",
    "   'Name': ['Billy', 'Brian', 'Bran', 'Bryce', 'Betty'],\n",
    "   'subject_id':['sub2','sub4','sub3','sub6','sub5']})\n",
    "print (pd.merge(left, right, on='subject_id', how='right'))"
   ]
  },
  {
   "cell_type": "code",
   "execution_count": 9,
   "metadata": {},
   "outputs": [
    {
     "data": {
      "text/html": [
       "<div>\n",
       "<style scoped>\n",
       "    .dataframe tbody tr th:only-of-type {\n",
       "        vertical-align: middle;\n",
       "    }\n",
       "\n",
       "    .dataframe tbody tr th {\n",
       "        vertical-align: top;\n",
       "    }\n",
       "\n",
       "    .dataframe thead th {\n",
       "        text-align: right;\n",
       "    }\n",
       "</style>\n",
       "<table border=\"1\" class=\"dataframe\">\n",
       "  <thead>\n",
       "    <tr style=\"text-align: right;\">\n",
       "      <th></th>\n",
       "      <th>A</th>\n",
       "      <th>B</th>\n",
       "      <th>v_and</th>\n",
       "      <th>v_or</th>\n",
       "    </tr>\n",
       "  </thead>\n",
       "  <tbody>\n",
       "    <tr>\n",
       "      <th>0</th>\n",
       "      <td>0</td>\n",
       "      <td>0</td>\n",
       "      <td>True</td>\n",
       "      <td>False</td>\n",
       "    </tr>\n",
       "    <tr>\n",
       "      <th>1</th>\n",
       "      <td>0</td>\n",
       "      <td>1</td>\n",
       "      <td>False</td>\n",
       "      <td>True</td>\n",
       "    </tr>\n",
       "    <tr>\n",
       "      <th>2</th>\n",
       "      <td>1</td>\n",
       "      <td>0</td>\n",
       "      <td>False</td>\n",
       "      <td>True</td>\n",
       "    </tr>\n",
       "    <tr>\n",
       "      <th>3</th>\n",
       "      <td>1</td>\n",
       "      <td>1</td>\n",
       "      <td>True</td>\n",
       "      <td>True</td>\n",
       "    </tr>\n",
       "  </tbody>\n",
       "</table>\n",
       "</div>"
      ],
      "text/plain": [
       "   A  B  v_and   v_or\n",
       "0  0  0   True  False\n",
       "1  0  1  False   True\n",
       "2  1  0  False   True\n",
       "3  1  1   True   True"
      ]
     },
     "execution_count": 9,
     "metadata": {},
     "output_type": "execute_result"
    }
   ],
   "source": [
    "#WAP TO Merge Two DataFrames on Multiple Keys\n",
    "a = pd.DataFrame({'A':['0', '0', '1','1'],'B':['0', '1', '0','1'], 'v':[True, False, False, True]})\n",
    "b = pd.DataFrame({'A':['0', '0', '1','1'], 'B':['0', '1', '0','1'],'v':[False, True, True, True]})\n",
    "\n",
    "result = pd.merge(a, b, on=['A','B'], how='inner', suffixes=['_and', '_or'])\n",
    "\n",
    "result"
   ]
  },
  {
   "cell_type": "markdown",
   "metadata": {},
   "source": [
    "WAP TO PERFORM RIGHT JOIN\n",
    "LEFT JOIN\n",
    "OUTER JOIN\n",
    "INNNER JOIN"
   ]
  },
  {
   "cell_type": "markdown",
   "metadata": {},
   "source": [
    "#Visualisation"
   ]
  },
  {
   "cell_type": "code",
   "execution_count": null,
   "metadata": {},
   "outputs": [],
   "source": []
  },
  {
   "cell_type": "code",
   "execution_count": null,
   "metadata": {},
   "outputs": [],
   "source": []
  }
 ],
 "metadata": {
  "kernelspec": {
   "display_name": "Python 3",
   "language": "python",
   "name": "python3"
  },
  "language_info": {
   "codemirror_mode": {
    "name": "ipython",
    "version": 3
   },
   "file_extension": ".py",
   "mimetype": "text/x-python",
   "name": "python",
   "nbconvert_exporter": "python",
   "pygments_lexer": "ipython3",
   "version": "3.7.4"
  }
 },
 "nbformat": 4,
 "nbformat_minor": 4
}
