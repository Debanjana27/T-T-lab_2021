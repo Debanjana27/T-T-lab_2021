{
 "cells": [
  {
   "cell_type": "markdown",
   "metadata": {},
   "source": [
    "# 1)WAP using numpy to find degree of polynomial equation"
   ]
  },
  {
   "cell_type": "code",
   "execution_count": 4,
   "metadata": {},
   "outputs": [
    {
     "name": "stdout",
     "output_type": "stream",
     "text": [
      "Degree of Polynomial:  3\n",
      "Degree of Polynomial:  4\n"
     ]
    }
   ],
   "source": [
    "import numpy as np \n",
    "   \n",
    "pol = np.poly1d([7,2,4,1])  \n",
    "print (\"Degree of Polynomial: \", pol.order) \n",
    "\n",
    "list1=[2,2,4,5,6]\n",
    "polyNew = np.poly1d(list1)\n",
    "print (\"Degree of Polynomial: \", (len(list1)-1))"
   ]
  },
  {
   "cell_type": "markdown",
   "metadata": {},
   "source": [
    "# 2)WAP to find factorial of a number"
   ]
  },
  {
   "cell_type": "code",
   "execution_count": 5,
   "metadata": {},
   "outputs": [
    {
     "name": "stdout",
     "output_type": "stream",
     "text": [
      "Enter a number: 5\n",
      "120\n"
     ]
    }
   ],
   "source": [
    "a = int(input('Enter a number: '))\n",
    "print(np.math.factorial(a))"
   ]
  },
  {
   "cell_type": "markdown",
   "metadata": {},
   "source": [
    "# 3)WAP to find roots of a Quadratic Equation"
   ]
  },
  {
   "cell_type": "code",
   "execution_count": 7,
   "metadata": {},
   "outputs": [
    {
     "name": "stdout",
     "output_type": "stream",
     "text": [
      "Roots of equation:  [-1. -1.]\n"
     ]
    }
   ],
   "source": [
    "quad = [1, 2, 1]\n",
    "print('Roots of equation: ',np.roots(quad))"
   ]
  },
  {
   "cell_type": "markdown",
   "metadata": {},
   "source": [
    "# 4)WAP to print diagonal elements of a matrix"
   ]
  },
  {
   "cell_type": "code",
   "execution_count": 8,
   "metadata": {},
   "outputs": [
    {
     "name": "stdout",
     "output_type": "stream",
     "text": [
      "Diagonal Elements of Matrix:  [[6 4 3]]\n"
     ]
    }
   ],
   "source": [
    "import numpy as np \n",
    "         \n",
    "matx = np.matrix('[6, 2, 1; 7, 4, 7; 1, 8, 3]')    \n",
    "print('Diagonal Elements of Matrix: ',matx.diagonal())"
   ]
  },
  {
   "cell_type": "markdown",
   "metadata": {},
   "source": [
    "# 5)WAP to find profit or loss for a given CP and SP"
   ]
  },
  {
   "cell_type": "code",
   "execution_count": 26,
   "metadata": {},
   "outputs": [
    {
     "name": "stdout",
     "output_type": "stream",
     "text": [
      "Profit of Rs 10\n",
      "Loss of Rs 10\n",
      "Profit of Rs 70\n",
      "Loss of Rs 1\n"
     ]
    }
   ],
   "source": [
    "import numpy as np\n",
    "cp=np.array([[100,150,200,250]])\n",
    "sp=np.array([[110,140,270,249]])\n",
    "\n",
    "diff=list(np.subtract(sp,cp))\n",
    "for x in diff:\n",
    "    x\n",
    "\n",
    "for i in range(len(x)):\n",
    "    if x[i]<0:\n",
    "        print('Loss of Rs',(-x[i]))\n",
    "    else:\n",
    "        print('Profit of Rs',x[i])\n",
    "        "
   ]
  },
  {
   "cell_type": "markdown",
   "metadata": {},
   "source": [
    "# 6)WAP to sort the matrix row wise and Column wise"
   ]
  },
  {
   "cell_type": "code",
   "execution_count": 36,
   "metadata": {},
   "outputs": [
    {
     "name": "stdout",
     "output_type": "stream",
     "text": [
      "Row wise sort\n",
      "[[1 4 5]\n",
      " [4 7 9]\n",
      " [2 6 9]]\n",
      "\n",
      "Column wise sort\n",
      "[[1 4 5]\n",
      " [2 6 9]\n",
      " [4 7 9]]\n"
     ]
    }
   ],
   "source": [
    "mat = np.matrix('5, 4, 1; 7 ,4 ,9; 9, 2, 6')\n",
    "mat.sort(axis=1)\n",
    "print('Row wise sort')\n",
    "print(mat)\n",
    "print()\n",
    "\n",
    "mat.sort(axis=0)\n",
    "print('Column wise sort')\n",
    "print(mat)"
   ]
  },
  {
   "cell_type": "code",
   "execution_count": null,
   "metadata": {},
   "outputs": [],
   "source": []
  }
 ],
 "metadata": {
  "kernelspec": {
   "display_name": "Python 3",
   "language": "python",
   "name": "python3"
  },
  "language_info": {
   "codemirror_mode": {
    "name": "ipython",
    "version": 3
   },
   "file_extension": ".py",
   "mimetype": "text/x-python",
   "name": "python",
   "nbconvert_exporter": "python",
   "pygments_lexer": "ipython3",
   "version": "3.7.4"
  }
 },
 "nbformat": 4,
 "nbformat_minor": 4
}
