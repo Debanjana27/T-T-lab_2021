{
 "cells": [
  {
   "cell_type": "markdown",
   "metadata": {},
   "source": [
    "WAP TO MENTION THE CELEBRATIONS IN A MONTH , STUDENTS PARTICIPATING IN EACH AND FIND THE STUDENT WHO PARTICIPATES IN MORE THAN 1 EVENT."
   ]
  },
  {
   "cell_type": "code",
   "execution_count": 14,
   "metadata": {},
   "outputs": [],
   "source": [
    "#int celebrations=int(input(\"Enter the celebrations in a month\"))\n"
   ]
  },
  {
   "cell_type": "markdown",
   "metadata": {},
   "source": [
    "set"
   ]
  },
  {
   "cell_type": "code",
   "execution_count": 2,
   "metadata": {},
   "outputs": [
    {
     "name": "stdout",
     "output_type": "stream",
     "text": [
      "{1, 2, 3, 4}\n"
     ]
    }
   ],
   "source": [
    "my_set = {1, 2, 3, 4, 3, 2}\n",
    "print(my_set)"
   ]
  },
  {
   "cell_type": "code",
   "execution_count": 3,
   "metadata": {},
   "outputs": [
    {
     "name": "stdout",
     "output_type": "stream",
     "text": [
      "set()\n"
     ]
    }
   ],
   "source": [
    "#create an empty set in python\n",
    "s = set()\n",
    "print (s)"
   ]
  },
  {
   "cell_type": "code",
   "execution_count": 4,
   "metadata": {},
   "outputs": [
    {
     "data": {
      "text/plain": [
       "{1, 2, 3, 4, 'x'}"
      ]
     },
     "execution_count": 4,
     "metadata": {},
     "output_type": "execute_result"
    }
   ],
   "source": [
    "#add a single element in set\n",
    "my_set.add(\"x\")\n",
    "my_set"
   ]
  },
  {
   "cell_type": "code",
   "execution_count": 5,
   "metadata": {},
   "outputs": [
    {
     "data": {
      "text/plain": [
       "{1, 2, 3, 4, 5, 6, 8, 'x'}"
      ]
     },
     "execution_count": 5,
     "metadata": {},
     "output_type": "execute_result"
    }
   ],
   "source": [
    "# add multiple elements in a set\n",
    "my_set.update([4, 5], {1, 6, 8})\n",
    "my_set"
   ]
  },
  {
   "cell_type": "code",
   "execution_count": 6,
   "metadata": {},
   "outputs": [
    {
     "data": {
      "text/plain": [
       "{1, 2, 3, 5, 8, 'x'}"
      ]
     },
     "execution_count": 6,
     "metadata": {},
     "output_type": "execute_result"
    }
   ],
   "source": [
    "#Remove single element\n",
    "my_set.discard(4)\n",
    "my_set.remove(6)\n",
    "my_set"
   ]
  },
  {
   "cell_type": "code",
   "execution_count": 7,
   "metadata": {},
   "outputs": [
    {
     "name": "stdout",
     "output_type": "stream",
     "text": [
      "6\n"
     ]
    }
   ],
   "source": [
    "#legth of a set\n",
    "print(len(my_set))"
   ]
  },
  {
   "cell_type": "code",
   "execution_count": 8,
   "metadata": {},
   "outputs": [
    {
     "name": "stdout",
     "output_type": "stream",
     "text": [
      "{1, 2, 3, 4, 5, 6, 7, 8}\n",
      "{4, 5}\n"
     ]
    }
   ],
   "source": [
    "#union and intersection\n",
    "\n",
    "A = {1, 2, 3, 4, 5}\n",
    "B = {4, 5, 6, 7, 8}\n",
    "print(A | B)\n",
    "print(A & B)"
   ]
  },
  {
   "cell_type": "code",
   "execution_count": 9,
   "metadata": {},
   "outputs": [
    {
     "name": "stdout",
     "output_type": "stream",
     "text": [
      "{1, 2, 3}\n",
      "{1, 2, 3, 6, 7, 8}\n"
     ]
    }
   ],
   "source": [
    "#difference\n",
    "print(A - B)\n",
    "#symmetric difference\n",
    "print(A ^ B)\n"
   ]
  },
  {
   "cell_type": "code",
   "execution_count": 10,
   "metadata": {},
   "outputs": [
    {
     "name": "stdout",
     "output_type": "stream",
     "text": [
      "{0, 1, 2, 3, 5, 'x', 'apple'}\n"
     ]
    }
   ],
   "source": [
    "#1. Write a Python program to remove an item from a set if it is present in the set.\n",
    "my_set = set([0, 1, 2, 3, 4, 5,\"x\",\"apple\"])\n",
    "#Discard number 4\n",
    "my_set.discard(4)\n",
    "print(my_set)"
   ]
  },
  {
   "cell_type": "code",
   "execution_count": 11,
   "metadata": {},
   "outputs": [
    {
     "name": "stdout",
     "output_type": "stream",
     "text": [
      "{4, 5}\n"
     ]
    }
   ],
   "source": [
    "#2. Write a Python program to create an intersection of sets.\n",
    "A = {1, 2, 3, 4, 5}\n",
    "B = {4, 5, 6, 7, 8}\n",
    "print(A & B)"
   ]
  },
  {
   "cell_type": "code",
   "execution_count": 12,
   "metadata": {},
   "outputs": [
    {
     "name": "stdout",
     "output_type": "stream",
     "text": [
      "{1, 2, 3, 'v'}\n"
     ]
    }
   ],
   "source": [
    "#3. Write a Python program to create set difference.\n",
    "A = {1, 2, 3, 4, 5,\"apple\",\"v\"}\n",
    "B = {4, 5, 6, 7, 8,\"apple\",\"orange\"}\n",
    "print(A-B)"
   ]
  },
  {
   "cell_type": "code",
   "execution_count": 13,
   "metadata": {},
   "outputs": [
    {
     "name": "stdout",
     "output_type": "stream",
     "text": [
      "20\n",
      "2\n"
     ]
    }
   ],
   "source": [
    "#4.Write a Python program to find maximum and the minimum value in a set\n",
    "seta = set([5, 10, 3, 15, 2, 20])\n",
    "#Find maximum value\n",
    "print(max(seta))\n",
    "#Find minimum value\n",
    "print(min(seta))"
   ]
  },
  {
   "cell_type": "code",
   "execution_count": 15,
   "metadata": {},
   "outputs": [
    {
     "name": "stdout",
     "output_type": "stream",
     "text": [
      "62 15\n"
     ]
    }
   ],
   "source": [
    "s = {50,25,62,15,38}\n",
    "val=list(s)[0]\n",
    "max_val=min_val = val\n",
    "for i in s:\n",
    "  if i < min_val :\n",
    "    min_val = i\n",
    "  if i > max_val :\n",
    "    max_val = i\n",
    "print(max_val,min_val)"
   ]
  },
  {
   "cell_type": "code",
   "execution_count": 20,
   "metadata": {},
   "outputs": [
    {
     "name": "stdout",
     "output_type": "stream",
     "text": [
      "False\n"
     ]
    }
   ],
   "source": [
    "#5.Write a Python program to check if a set is a subset of another set.\n",
    "setx = set([\"apple\", \"apple\"])\n",
    "sety = set([\"mango\", \"orange\"])\n",
    "print(setx.issubset(sety))\n"
   ]
  },
  {
   "cell_type": "code",
   "execution_count": 16,
   "metadata": {},
   "outputs": [
    {
     "name": "stdout",
     "output_type": "stream",
     "text": [
      "6\n"
     ]
    }
   ],
   "source": [
    "#6. Write a Python program to find the length of a set\n",
    "seta = set([5, 10, 3, 15, 2, 20])\n",
    "#Find the length use len()\n",
    "print(len(seta))"
   ]
  },
  {
   "cell_type": "code",
   "execution_count": 21,
   "metadata": {},
   "outputs": [
    {
     "name": "stdout",
     "output_type": "stream",
     "text": [
      "Compare x and y:\n",
      "False\n",
      "Compare x and z:\n",
      "True\n",
      "Compare y and z:\n",
      "True\n"
     ]
    }
   ],
   "source": [
    "#7. Write a Python program to check if two given sets have no elements in common\n",
    "x = {1,2,3,4}\n",
    "y = {4,5,6,7}\n",
    "z = {8}\n",
    "print(\"Compare x and y:\")\n",
    "print(x.isdisjoint(y))\n",
    "print(\"Compare x and z:\")\n",
    "print(z.isdisjoint(x))\n",
    "print(\"Compare y and z:\")\n",
    "print(y.isdisjoint(z))"
   ]
  },
  {
   "cell_type": "code",
   "execution_count": 25,
   "metadata": {},
   "outputs": [
    {
     "name": "stdout",
     "output_type": "stream",
     "text": [
      "{'Green', 'Red'}\n",
      "set()\n"
     ]
    }
   ],
   "source": [
    "#8. Write a Python program to clear a set\n",
    "setp = set([\"Red\", \"Green\"])\n",
    "setq = setp.copy()\n",
    "print(setq)\n",
    "setq.clear()\n",
    "print(setq)"
   ]
  },
  {
   "cell_type": "code",
   "execution_count": 24,
   "metadata": {},
   "outputs": [
    {
     "name": "stdout",
     "output_type": "stream",
     "text": [
      "Present in sn1 and not in sn2\n",
      "{1, 2, 3}\n",
      "Present in of sn2 and not in sn1\n",
      "{8, 6, 7}\n"
     ]
    }
   ],
   "source": [
    "#9. Write a Python program to find the elements in a given set that are not in another set. \n",
    "sn1 = {1,2,3,4,5}\n",
    "sn2 = {4,5,6,7,8}\n",
    "print(\"Present in sn1 and not in sn2\")\n",
    "print(sn1-sn2)\n",
    "print(\"Present in of sn2 and not in sn1\")\n",
    "print(sn2-sn1)"
   ]
  },
  {
   "cell_type": "code",
   "execution_count": null,
   "metadata": {},
   "outputs": [],
   "source": []
  }
 ],
 "metadata": {
  "kernelspec": {
   "display_name": "Python 3",
   "language": "python",
   "name": "python3"
  },
  "language_info": {
   "codemirror_mode": {
    "name": "ipython",
    "version": 3
   },
   "file_extension": ".py",
   "mimetype": "text/x-python",
   "name": "python",
   "nbconvert_exporter": "python",
   "pygments_lexer": "ipython3",
   "version": "3.7.4"
  }
 },
 "nbformat": 4,
 "nbformat_minor": 2
}
